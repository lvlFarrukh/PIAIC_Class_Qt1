{
 "cells": [
  {
   "cell_type": "code",
   "execution_count": 4,
   "metadata": {},
   "outputs": [
    {
     "name": "stdout",
     "output_type": "stream",
     "text": [
      "Enter Word: Set\n",
      "Meaning of set is \" majmua \"\n"
     ]
    }
   ],
   "source": [
    "dict = {\"set\": \"majmua\",\"computer\": \"electronic device\",\"remote\": \"device to control something\",\"thing\": \"cheez\"}\n",
    "word = input(\"Enter Word: \").lower()\n",
    "if(word in dict):\n",
    "    print(f\"Meaning of {word} is \\\" {dict[word]} \\\"\")"
   ]
  },
  {
   "cell_type": "code",
   "execution_count": 3,
   "metadata": {},
   "outputs": [
    {
     "name": "stdout",
     "output_type": "stream",
     "text": [
      "~~~~~~~~ Guss Number Game ~~~~~~~~\n",
      "\n",
      "Enter any Number: 30\n",
      "Your guss is wrong! Guss some Higher number\n",
      "9 truns remaining \n",
      "\n",
      "Enter any Number: 40\n",
      "Your guss is wrong! Guss some lower number\n",
      "8 truns remaining \n",
      "\n",
      "Enter any Number: 35\n",
      "Your guss is wrong! Guss some lower number\n",
      "7 truns remaining \n",
      "\n",
      "Enter any Number: 34\n",
      "Congratulate! You guss the right number in 3 turns.\n"
     ]
    }
   ],
   "source": [
    "import random\n",
    "counter = 10\n",
    "truns = 0\n",
    "print(f\"{'~' * 8} Guss Number Game {'~' * 8}\")\n",
    "actual_number = random.randint(0, 50)\n",
    "while counter != 0:\n",
    "    num = int(input(\"\\nEnter any Number: \"))\n",
    "    if counter == 1 and num != actual_number:\n",
    "          print(\"you Fail to guss number!\")\n",
    "    elif num == actual_number:\n",
    "          print(f\"Congratulate! You guss the right number in {truns} turns.\")\n",
    "          break\n",
    "    elif num > actual_number:\n",
    "          print(\"Your guss is wrong! Guss some lower number\")\n",
    "    else:\n",
    "          print(\"Your guss is wrong! Guss some Higher number\")\n",
    "    counter -= 1\n",
    "    truns += 1\n",
    "    print(f\"{counter} truns remaining \")\n",
    "      "
   ]
  },
  {
   "cell_type": "code",
   "execution_count": null,
   "metadata": {},
   "outputs": [],
   "source": []
  },
  {
   "cell_type": "code",
   "execution_count": null,
   "metadata": {},
   "outputs": [],
   "source": []
  }
 ],
 "metadata": {
  "kernelspec": {
   "display_name": "Python 3",
   "language": "python",
   "name": "python3"
  },
  "language_info": {
   "codemirror_mode": {
    "name": "ipython",
    "version": 3
   },
   "file_extension": ".py",
   "mimetype": "text/x-python",
   "name": "python",
   "nbconvert_exporter": "python",
   "pygments_lexer": "ipython3",
   "version": "3.7.3"
  }
 },
 "nbformat": 4,
 "nbformat_minor": 2
}
